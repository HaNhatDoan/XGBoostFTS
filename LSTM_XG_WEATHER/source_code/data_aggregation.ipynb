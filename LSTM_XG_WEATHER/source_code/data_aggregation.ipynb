{
 "cells": [
  {
   "cell_type": "code",
   "execution_count": 8,
   "id": "1d8a13ce",
   "metadata": {},
   "outputs": [
    {
     "name": "stdout",
     "output_type": "stream",
     "text": [
      "Số dòng: 263145\n",
      "Các cột: ['Date Time', 'p (mbar)', 'T (degC)', 'Tpot (K)', 'Tdew (degC)', 'rh (%)', 'VPmax (mbar)', 'VPact (mbar)', 'VPdef (mbar)', 'sh (g/kg)', 'H2OC (mmol/mol)', 'rho (g/m**3)', 'wv (m/s)', 'max. wv (m/s)', 'wd (deg)', 'rain (mm)', 'raining (s)', 'SWDR (W/m²)', 'PAR (µmol/m²/s)', 'max. PAR (µmol/m²/s)', 'Tlog (degC)', 'CO2 (ppm)', 'source_file']\n",
      "             Date Time  p (mbar)  T (degC)  Tpot (K)  Tdew (degC)  rh (%)  \\\n",
      "0  01.01.2020 00:10:00   1008.89      0.71    273.18        -1.33    86.1   \n",
      "1  01.01.2020 00:20:00   1008.76      0.75    273.22        -1.44    85.2   \n",
      "2  01.01.2020 00:30:00   1008.66      0.73    273.21        -1.48    85.1   \n",
      "3  01.01.2020 00:40:00   1008.64      0.37    272.86        -1.64    86.3   \n",
      "4  01.01.2020 00:50:00   1008.61      0.33    272.82        -1.50    87.4   \n",
      "\n",
      "   VPmax (mbar)  VPact (mbar)  VPdef (mbar)  sh (g/kg)  ...  max. wv (m/s)  \\\n",
      "0          6.43          5.54          0.89       3.42  ...           1.60   \n",
      "1          6.45          5.49          0.95       3.39  ...           0.84   \n",
      "2          6.44          5.48          0.96       3.39  ...           1.48   \n",
      "3          6.27          5.41          0.86       3.35  ...           1.48   \n",
      "4          6.26          5.47          0.79       3.38  ...           1.40   \n",
      "\n",
      "   wd (deg)  rain (mm)  raining (s)  SWDR (W/m²)  PAR (µmol/m²/s)  \\\n",
      "0     224.3        0.0          0.0          0.0              0.0   \n",
      "1     206.8        0.0          0.0          0.0              0.0   \n",
      "2     197.1        0.0          0.0          0.0              0.0   \n",
      "3     206.4        0.0          0.0          0.0              0.0   \n",
      "4     209.6        0.0          0.0          0.0              0.0   \n",
      "\n",
      "   max. PAR (µmol/m²/s)  Tlog (degC)  CO2 (ppm)         source_file  \n",
      "0                   0.0        11.45      428.1  mpi_roof_2020a.csv  \n",
      "1                   0.0        11.51      428.0  mpi_roof_2020a.csv  \n",
      "2                   0.0        11.60      427.6  mpi_roof_2020a.csv  \n",
      "3                   0.0        11.70      430.0  mpi_roof_2020a.csv  \n",
      "4                   0.0        11.81      432.2  mpi_roof_2020a.csv  \n",
      "\n",
      "[5 rows x 23 columns]\n"
     ]
    }
   ],
   "source": [
    "import pandas as pd\n",
    "import glob\n",
    "import os\n",
    "\n",
    "# Đường dẫn đến thư mục chứa file\n",
    "folder_path = \"../datasets/weather\"\n",
    "\n",
    "# Lấy tất cả các file csv trong thư mục\n",
    "csv_files = glob.glob(os.path.join(folder_path, \"*.csv\"))\n",
    "\n",
    "# Gộp các file\n",
    "df_list = []\n",
    "for file in csv_files:\n",
    "    try:\n",
    "        df = pd.read_csv(file, encoding='latin1')  # hoặc utf-8 nếu không lỗi\n",
    "        df['source_file'] = os.path.basename(file)  # thêm cột nguồn nếu cần\n",
    "        df_list.append(df)\n",
    "    except Exception as e:\n",
    "        print(f\"Lỗi khi đọc file {file}: {e}\")\n",
    "\n",
    "# Gộp lại thành một DataFrame\n",
    "combined_df = pd.concat(df_list, ignore_index=True)\n",
    "\n",
    "# Xem thông tin\n",
    "print(\"Số dòng:\", len(combined_df))\n",
    "print(\"Các cột:\", combined_df.columns.tolist())\n",
    "print(combined_df.head())\n",
    "\n",
    "# Lưu ra file nếu cần\n",
    "combined_df.to_csv(\"../datasets/weather_aggregration/weather_combined.csv\", index=False)\n"
   ]
  },
  {
   "cell_type": "code",
   "execution_count": null,
   "id": "ef45631c",
   "metadata": {},
   "outputs": [],
   "source": []
  }
 ],
 "metadata": {
  "kernelspec": {
   "display_name": "base",
   "language": "python",
   "name": "python3"
  },
  "language_info": {
   "codemirror_mode": {
    "name": "ipython",
    "version": 3
   },
   "file_extension": ".py",
   "mimetype": "text/x-python",
   "name": "python",
   "nbconvert_exporter": "python",
   "pygments_lexer": "ipython3",
   "version": "3.12.3"
  }
 },
 "nbformat": 4,
 "nbformat_minor": 5
}
