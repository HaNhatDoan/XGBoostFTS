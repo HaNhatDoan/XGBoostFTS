{
 "cells": [
  {
   "cell_type": "code",
   "execution_count": 4,
   "id": "c7088370",
   "metadata": {},
   "outputs": [
    {
     "name": "stdout",
     "output_type": "stream",
     "text": [
      "Shape of X: (26280, 24, 51)\n",
      "Shape of y: (26280,)\n"
     ]
    }
   ],
   "source": [
    "import pandas as pd\n",
    "import numpy as np\n",
    "from sklearn.preprocessing import StandardScaler\n",
    "\n",
    "# Đọc dữ liệu\n",
    "df = pd.read_csv(\"../dataset/ECL.csv\")\n",
    "df['date'] = pd.to_datetime(df['date'])\n",
    "df = df.set_index('date')\n",
    "\n",
    "# Điền khuyết bằng nội suy theo thời gian\n",
    "df = df.interpolate(method='time')\n",
    "\n",
    "# Chuẩn hóa dữ liệu\n",
    "scaler = StandardScaler()\n",
    "scaled_data = scaler.fit_transform(df)\n",
    "scaled_df = pd.DataFrame(scaled_data, index=df.index, columns=df.columns)\n",
    "\n",
    "# Chọn 50 đặc trưng tương quan cao nhất với MT_001\n",
    "correlations = df.corr()['MT_001'].abs().sort_values(ascending=False)\n",
    "top_features = correlations.drop('MT_001').head(50).index.tolist()\n",
    "selected_columns = top_features + ['MT_001']\n",
    "reduced_df = scaled_df[selected_columns].astype(np.float32)\n",
    "\n",
    "# Tạo dữ liệu chuỗi thời gian supervised\n",
    "def create_supervised_data(data, target_column='MT_001', window_size=24):\n",
    "    X, y = [], []\n",
    "    for i in range(window_size, len(data)):\n",
    "        X.append(data.iloc[i-window_size:i].values)\n",
    "        y.append(data.iloc[i][target_column])\n",
    "    return np.array(X), np.array(y)\n",
    "\n",
    "X, y = create_supervised_data(reduced_df, window_size=24)\n",
    "\n",
    "print(\"Shape of X:\", X.shape)\n",
    "print(\"Shape of y:\", y.shape)\n"
   ]
  },
  {
   "cell_type": "code",
   "execution_count": 9,
   "id": "1d13270f",
   "metadata": {},
   "outputs": [],
   "source": [
    "from torch import nn\n",
    "import torch"
   ]
  },
  {
   "cell_type": "code",
   "execution_count": 7,
   "id": "b770618f",
   "metadata": {},
   "outputs": [],
   "source": [
    "# Tạo lớp LSTM Feature Extractor\n",
    "class LSTMFeatureExtractor(nn.Module):\n",
    "    def __init__(self, input_size, hidden_size=64, num_layers=2):\n",
    "        super(LSTMFeatureExtractor, self).__init__()\n",
    "        self.lstm = nn.LSTM(input_size, hidden_size, num_layers, batch_first=True)\n",
    "\n",
    "    def forward(self, x):\n",
    "        out, _ = self.lstm(x)\n",
    "        return out[:, -1, :]  # Lấy đặc trưng timestep cuối\n"
   ]
  },
  {
   "cell_type": "code",
   "execution_count": 10,
   "id": "da36c5d6",
   "metadata": {},
   "outputs": [],
   "source": [
    "# Trích xuất đặc trưng bằng LSTM (không cần fully-connected)\n",
    "lstm_extractor = LSTMFeatureExtractor(input_size=X.shape[2])\n",
    "lstm_extractor.eval()\n",
    "\n",
    "# Chạy forward để lấy đặc trưng\n",
    "with torch.no_grad():\n",
    "    features = lstm_extractor(torch.tensor(X, dtype=torch.float32)).numpy()\n"
   ]
  },
  {
   "cell_type": "code",
   "execution_count": 11,
   "id": "8ae0d751",
   "metadata": {},
   "outputs": [
    {
     "name": "stdout",
     "output_type": "stream",
     "text": [
      "MSE: 0.2821, MAE: 0.3612\n"
     ]
    }
   ],
   "source": [
    "from xgboost import XGBRegressor\n",
    "from sklearn.model_selection import train_test_split\n",
    "from sklearn.metrics import mean_squared_error, mean_absolute_error\n",
    "\n",
    "# Chia train/test\n",
    "X_train, X_test, y_train, y_test = train_test_split(features, y, test_size=0.2, random_state=42)\n",
    "\n",
    "# Huấn luyện XGBoost\n",
    "xgb_model = XGBRegressor(n_estimators=100, max_depth=5, learning_rate=0.05)\n",
    "xgb_model.fit(X_train, y_train)\n",
    "\n",
    "# Dự đoán và đánh giá\n",
    "y_pred = xgb_model.predict(X_test)\n",
    "mse = mean_squared_error(y_test, y_pred)\n",
    "mae = mean_absolute_error(y_test, y_pred)\n",
    "\n",
    "print(f\"MSE: {mse:.4f}, MAE: {mae:.4f}\")\n"
   ]
  },
  {
   "cell_type": "code",
   "execution_count": 12,
   "id": "392e2627",
   "metadata": {},
   "outputs": [],
   "source": [
    "def create_multistep_supervised_data(data, target_column='MT_001', window_size=24, horizon=12):\n",
    "    X, y = [], []\n",
    "    target_series = data[target_column].values\n",
    "    for i in range(window_size, len(data) - horizon):\n",
    "        X.append(data.iloc[i-window_size:i].values)\n",
    "        y.append(target_series[i:i+horizon])\n",
    "    return np.array(X), np.array(y)\n",
    "\n",
    "# Tạo dữ liệu cho từng horizon\n",
    "X_12, y_12 = create_multistep_supervised_data(reduced_df, window_size=24, horizon=12)\n",
    "X_24, y_24 = create_multistep_supervised_data(reduced_df, window_size=24, horizon=24)\n",
    "X_36, y_36 = create_multistep_supervised_data(reduced_df, window_size=24, horizon=36)\n",
    "X_48, y_48 = create_multistep_supervised_data(reduced_df, window_size=24, horizon=48)\n"
   ]
  },
  {
   "cell_type": "code",
   "execution_count": 13,
   "id": "f5098637",
   "metadata": {},
   "outputs": [],
   "source": [
    "def extract_lstm_features(X, input_size, model=None):\n",
    "    if model is None:\n",
    "        model = LSTMFeatureExtractor(input_size)\n",
    "    model.eval()\n",
    "    with torch.no_grad():\n",
    "        return model(torch.tensor(X, dtype=torch.float32)).numpy()\n",
    "\n",
    "# Giả sử input_size = X_12.shape[2]\n",
    "features_12 = extract_lstm_features(X_12, input_size=X_12.shape[2])\n",
    "features_24 = extract_lstm_features(X_24, input_size=X_24.shape[2])\n",
    "features_36 = extract_lstm_features(X_36, input_size=X_36.shape[2])\n",
    "features_48 = extract_lstm_features(X_48, input_size=X_48.shape[2])\n"
   ]
  },
  {
   "cell_type": "code",
   "execution_count": 14,
   "id": "29ca17b4",
   "metadata": {},
   "outputs": [],
   "source": [
    "def train_xgboost_multioutput(X, y):\n",
    "    from sklearn.multioutput import MultiOutputRegressor\n",
    "    from xgboost import XGBRegressor\n",
    "    from sklearn.model_selection import train_test_split\n",
    "    from sklearn.metrics import mean_squared_error, mean_absolute_error\n",
    "\n",
    "    X_train, X_test, y_train, y_test = train_test_split(X, y, test_size=0.2, random_state=42)\n",
    "    model = MultiOutputRegressor(XGBRegressor(n_estimators=100, learning_rate=0.05))\n",
    "    model.fit(X_train, y_train)\n",
    "    y_pred = model.predict(X_test)\n",
    "\n",
    "    mse = mean_squared_error(y_test, y_pred)\n",
    "    mae = mean_absolute_error(y_test, y_pred)\n",
    "    return model, mse, mae\n"
   ]
  },
  {
   "cell_type": "code",
   "execution_count": 15,
   "id": "7610067e",
   "metadata": {},
   "outputs": [
    {
     "name": "stdout",
     "output_type": "stream",
     "text": [
      "Horizon 12 - MSE: 0.3534, MAE: 0.4071\n",
      "Horizon 24 - MSE: 0.3462, MAE: 0.4001\n",
      "Horizon 36 - MSE: 0.3716, MAE: 0.4145\n",
      "Horizon 48 - MSE: 0.3664, MAE: 0.4068\n"
     ]
    }
   ],
   "source": [
    "model_12, mse_12, mae_12 = train_xgboost_multioutput(features_12, y_12)\n",
    "model_24, mse_24, mae_24 = train_xgboost_multioutput(features_24, y_24)\n",
    "model_36, mse_36, mae_36 = train_xgboost_multioutput(features_36, y_36)\n",
    "model_48, mse_48, mae_48 = train_xgboost_multioutput(features_48, y_48)\n",
    "\n",
    "print(f\"Horizon 12 - MSE: {mse_12:.4f}, MAE: {mae_12:.4f}\")\n",
    "print(f\"Horizon 24 - MSE: {mse_24:.4f}, MAE: {mae_24:.4f}\")\n",
    "print(f\"Horizon 36 - MSE: {mse_36:.4f}, MAE: {mae_36:.4f}\")\n",
    "print(f\"Horizon 48 - MSE: {mse_48:.4f}, MAE: {mae_48:.4f}\")\n"
   ]
  },
  {
   "cell_type": "code",
   "execution_count": null,
   "id": "0752f3ba",
   "metadata": {},
   "outputs": [],
   "source": []
  }
 ],
 "metadata": {
  "kernelspec": {
   "display_name": "base",
   "language": "python",
   "name": "python3"
  },
  "language_info": {
   "codemirror_mode": {
    "name": "ipython",
    "version": 3
   },
   "file_extension": ".py",
   "mimetype": "text/x-python",
   "name": "python",
   "nbconvert_exporter": "python",
   "pygments_lexer": "ipython3",
   "version": "3.12.3"
  }
 },
 "nbformat": 4,
 "nbformat_minor": 5
}
